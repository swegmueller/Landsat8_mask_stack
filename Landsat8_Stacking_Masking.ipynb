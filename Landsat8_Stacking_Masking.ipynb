{
 "cells": [
  {
   "cell_type": "markdown",
   "metadata": {},
   "source": [
    "# Mask at stack Landsat 8 images\n",
    "\n",
    "This notebook contains code to mask and stack Landsat 8 images.  Masking is done using the QA Pixels file, which is generated using the CFMask algorithm.  The only block you have to edit is the one which sets the location of the files. There is a block which shows you the mask before you write the files, allowing you to change it if needed.  \n",
    "\n",
    "FYI: Binary codes for the QA Pixels file (which uses the CFMask algorithm).\n",
    "\n",
    "    bit                    15 14 13 12 11 10 9 8 7 6 5 4 3 2 1 0\n",
    "\n",
    "    Fill                   0  0  0  0  0  0  0 0 0 0 0 0 0 0 0 1\n",
    "    Dilated cloud          0  0  0  0  0  0  0 0 0 0 0 0 0 0 1 0\n",
    "    High conf cirrus       0  0  0  0  0  0  0 0 0 0 0 0 0 1 0 0\n",
    "    High conf cloud        0  0  0  0  0  0  0 0 0 0 0 0 1 0 0 0\n",
    "    High conf cloud shadow 0  0  0  0  0  0  0 0 0 0 0 1 0 0 0 0\n",
    "    High conf snow         0  0  0  0  0  0  0 0 0 0 1 0 0 0 0 0 \n",
    "    Clear                  0  0  0  0  0  0  0 0 0 1 0 0 0 0 0 0 \n",
    "    Water                  0  0  0  0  0  0  0 0 1 0 0 0 0 0 0 0\n",
    "\n",
    "    Cloud confidence       \n",
    "        low                0  0  0  0  0  0  1 0 0 0 0 0 0 0 0 0\n",
    "        med                0  0  0  0  0  0  0 1 0 0 0 0 0 0 0 0 \n",
    "        high               0  0  0  0  0  0  1 1 0 0 0 0 0 0 0 0\n",
    "    \n",
    "    Cloud Shadow confidence       \n",
    "        low                0  0  0  0  1  0  0 0 0 0 0 0 0 0 0 0\n",
    "        high               0  0  0  0  1  1  0 0 0 0 0 0 0 0 0 0\n",
    "    \n",
    "    Snow/Ice confidence       \n",
    "        low                0  0  1  0  0  0  0 0 0 0 0 0 0 0 0 0\n",
    "        high               0  0  1  1  0  0  0 0 0 0 0 0 0 0 0 0  \n",
    "    \n",
    "    Cirrus confidence       \n",
    "        low                1  0  0  0  0  0  0 0 0 0 0 0 0 0 0 0\n",
    "        high               1  1  0  0  0  0  0 0 0 0 0 0 0 0 0 0\n",
    "\n",
    "np.bitwise_and function finds those bits that indicate \"true\" in the QA array given the condition, such as water or clouds.\n",
    "\n",
    "np.right_shift moves the resulting '1' or '0' (or pixels in which the condition is true or false, respectively) to the first bit position, enabling creation of a binary mask\n",
    "\n",
    "Resources:\n",
    "https://www.usgs.gov/core-science-systems/nli/landsat/landsat-collection-2-quality-assessment-bands"
   ]
  },
  {
   "cell_type": "code",
   "execution_count": 1,
   "metadata": {},
   "outputs": [],
   "source": [
    "import os\n",
    "import rasterio\n",
    "import numpy as np\n",
    "import numpy.ma as ma\n",
    "import matplotlib.pyplot as plt"
   ]
  },
  {
   "cell_type": "code",
   "execution_count": 14,
   "metadata": {},
   "outputs": [],
   "source": [
    "### This is the only block which needs edited ###\n",
    "\n",
    "# Directory in which band data exists\n",
    "os.chdir('.../LC08_L2SP_024029_20190710_20200827_02_T1')\n",
    "\n",
    "# Select spectral bands desired to mask and stack.  PUT THEM IN THE ORDER OF STACKING.\n",
    "bands = ['LC08_L2SP_024029_20190710_20200827_02_T1_SR_B2.TIF',\n",
    "         'LC08_L2SP_024029_20190710_20200827_02_T1_SR_B3.TIF',\n",
    "         'LC08_L2SP_024029_20190710_20200827_02_T1_SR_B4.TIF',\n",
    "         'LC08_L2SP_024029_20190710_20200827_02_T1_SR_B5.TIF',\n",
    "         'LC08_L2SP_024029_20190710_20200827_02_T1_SR_B6.TIF',\n",
    "         'LC08_L2SP_024029_20190710_20200827_02_T1_SR_B7.TIF'\n",
    "        ]\n",
    "\n",
    "# Name (or filepath) to the QA_PIXEL band\n",
    "qa_fp = 'LC08_L2SP_024029_20190710_20200827_02_T1_QA_PIXEL.TIF'\n",
    "\n",
    "# Select masking items from: ['cloud_d', 'cirrus', 'cloud', 'cloud_sh', 'snow, water']\n",
    "masking_items = ['cloud_d', 'cirrus', 'cloud', 'cloud_sh','water']\n",
    "\n",
    "# To mask everything but clear, leave masking_items empty and set this to True.\n",
    "# This will create a mask using the clear pixels, and then invert it so everything not clear\n",
    "# is masked out.  Note: Clear pixels with water and snow are kept.\n",
    "clr_only = False \n",
    "\n",
    "# Name you want the masked and stacked image to have\n",
    "out_file_name = 'LC08_L2SP_024029_20190710_20200827_02_T1_SR_masked_stacked.tif'"
   ]
  },
  {
   "cell_type": "code",
   "execution_count": 15,
   "metadata": {},
   "outputs": [],
   "source": [
    "qa = rasterio.open(qa_fp)\n",
    "qa_band = qa.read(1)\n",
    "\n",
    "cloud_d = '0000000000000010' # Cloud dilation\n",
    "cirrus =  '0000000000000100' # High confidence that cirrus exist\n",
    "cloud =   '0000000000001000' # High confidence that a cloud exists\n",
    "cloud_sh ='0000000000010000' # High confidence that a cloud exists\n",
    "snow =    '0000000000100000' # High confidence that snow/ice exists\n",
    "clear =   '0000000001000000' # Pixel is likely clear\n",
    "water =   '0000000010000000' # High confidence that water exists"
   ]
  },
  {
   "cell_type": "code",
   "execution_count": 18,
   "metadata": {},
   "outputs": [],
   "source": [
    "if clr_only == True:\n",
    "    clr = np.right_shift(np.bitwise_and(qa_band, int(clear, 2)), 6)\n",
    "    full_mask = clr==0  #create a mask using 0 becuase here it means \"not clear\"\n",
    "    \n",
    "else:\n",
    "    if 'cloud_d' in masking_items:\n",
    "        cld_d = np.right_shift(np.bitwise_and(qa_band, int(cloud_d, 2)), 1)\n",
    "    else:\n",
    "        cld_d = np.zeros(shape=qa_band.shape)\n",
    "        \n",
    "    if 'cirrus' in masking_items:\n",
    "        cir = np.right_shift(np.bitwise_and(qa_band, int(cirrus, 2)), 2)\n",
    "    else:\n",
    "        cir = np.zeros(shape=qa_band.shape)\n",
    "\n",
    "    if 'cloud' in masking_items:\n",
    "        cld = np.right_shift(np.bitwise_and(qa_band, int(cloud, 2)), 3)\n",
    "    else:\n",
    "        cld = np.zeros(shape=qa_band.shape)\n",
    "        \n",
    "    if 'cloud_sh' in masking_items:\n",
    "        cld_sh = np.right_shift(np.bitwise_and(qa_band, int(cloud_sh, 2)), 4)\n",
    "    else:\n",
    "        cld_sh = np.zeros(shape=qa_band.shape)    \n",
    "\n",
    "    if 'snow' in masking_items:\n",
    "        sno = np.right_shift(np.bitwise_and(qa_band, int(snow, 2)), 5)\n",
    "    else:\n",
    "        sno = np.zeros(shape=qa_band.shape)    \n",
    "\n",
    "    if 'water' in masking_items:\n",
    "        wat = np.right_shift(np.bitwise_and(qa_band, int(water, 2)), 7)\n",
    "    else:\n",
    "        wat = np.zeros(shape=qa_band.shape)          \n",
    "\n",
    "    full_mask=(cld_d==1)|(cir==1)|(cld==1)|(cld_sh==1)|(sno==1)|(wat==1)"
   ]
  },
  {
   "cell_type": "code",
   "execution_count": 19,
   "metadata": {
    "scrolled": true
   },
   "outputs": [
    {
     "data": {
      "text/plain": [
       "<matplotlib.image.AxesImage at 0x7f7040875150>"
      ]
     },
     "execution_count": 19,
     "metadata": {},
     "output_type": "execute_result"
    },
    {
     "data": {
      "image/png": "[encoded data removed]",
      "text/plain": [
       "<Figure size 432x288 with 1 Axes>"
      ]
     },
     "metadata": {
      "needs_background": "light"
     },
     "output_type": "display_data"
    }
   ],
   "source": [
    "plt.imshow(full_mask)"
   ]
  },
  {
   "cell_type": "code",
   "execution_count": 20,
   "metadata": {},
   "outputs": [],
   "source": [
    "masked_img = np.zeros(shape=[qa_band.shape[0], qa_band.shape[1], len(bands)], dtype='uint16')\n",
    "\n",
    "for num, band in enumerate(bands):\n",
    "    img = rasterio.open(band)\n",
    "    data = img.read(1)\n",
    "    nodata = img.nodata\n",
    "\n",
    "    tmp = ma.masked_array(data, full_mask)\n",
    "    arr = ma.filled(tmp, nodata)\n",
    "    masked_img[:, :, num] = arr"
   ]
  },
  {
   "cell_type": "code",
   "execution_count": 21,
   "metadata": {},
   "outputs": [],
   "source": [
    "src = rasterio.open(bands[1]) \n",
    "\n",
    "with rasterio.Env():\n",
    "    profile = src.profile\n",
    "    profile.update({'count':len(bands)})\n",
    "\n",
    "    with rasterio.open(out_file_name, 'w', **profile) as dst: \n",
    "        for i in range(1, len(bands)+1):\n",
    "            dst.write(masked_img[:, :,i-1], i) "
   ]
  }
 ],
 "metadata": {
  "kernelspec": {
   "display_name": "Python 3",
   "language": "python",
   "name": "python3"
  },
  "language_info": {
   "codemirror_mode": {
    "name": "ipython",
    "version": 3
   },
   "file_extension": ".py",
   "mimetype": "text/x-python",
   "name": "python",
   "nbconvert_exporter": "python",
   "pygments_lexer": "ipython3",
   "version": "3.7.7"
  }
 },
 "nbformat": 4,
 "nbformat_minor": 4
}
